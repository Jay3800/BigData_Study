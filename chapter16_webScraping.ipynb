{
 "cells": [
  {
   "cell_type": "markdown",
   "metadata": {},
   "source": [
    "## 비정형 데이터 분석\n",
    "\n",
    "- 정형(structured) 데이터: 표 형태의 데이터\n",
    "- 비정형(unstructured) 데이터: 텍스트, 이미지, 음성 등"
   ]
  },
  {
   "cell_type": "markdown",
   "metadata": {},
   "source": [
    "# 웹 스크래핑 1"
   ]
  },
  {
   "cell_type": "markdown",
   "metadata": {},
   "source": [
    "### Python으로 URL 분석하기"
   ]
  },
  {
   "cell_type": "code",
   "execution_count": 1,
   "metadata": {},
   "outputs": [],
   "source": [
    "import urllib.parse"
   ]
  },
  {
   "cell_type": "code",
   "execution_count": 2,
   "metadata": {},
   "outputs": [],
   "source": [
    "p = urllib.parse.urlparse('http://www.bobaedream.co.kr/mycar/mycar_list.php?sel_m_gubun=ALL&page=2')"
   ]
  },
  {
   "cell_type": "code",
   "execution_count": 3,
   "metadata": {},
   "outputs": [
    {
     "data": {
      "text/plain": [
       "'http'"
      ]
     },
     "execution_count": 3,
     "metadata": {},
     "output_type": "execute_result"
    }
   ],
   "source": [
    "p.scheme"
   ]
  },
  {
   "cell_type": "code",
   "execution_count": 4,
   "metadata": {},
   "outputs": [
    {
     "data": {
      "text/plain": [
       "'www.bobaedream.co.kr'"
      ]
     },
     "execution_count": 4,
     "metadata": {},
     "output_type": "execute_result"
    }
   ],
   "source": [
    "p.hostname"
   ]
  },
  {
   "cell_type": "code",
   "execution_count": 5,
   "metadata": {},
   "outputs": [
    {
     "data": {
      "text/plain": [
       "'/mycar/mycar_list.php'"
      ]
     },
     "execution_count": 5,
     "metadata": {},
     "output_type": "execute_result"
    }
   ],
   "source": [
    "p.path"
   ]
  },
  {
   "cell_type": "code",
   "execution_count": 6,
   "metadata": {},
   "outputs": [
    {
     "data": {
      "text/plain": [
       "'sel_m_gubun=ALL&page=2'"
      ]
     },
     "execution_count": 6,
     "metadata": {},
     "output_type": "execute_result"
    }
   ],
   "source": [
    "p.query"
   ]
  },
  {
   "cell_type": "markdown",
   "metadata": {},
   "source": [
    "### 요청보내기"
   ]
  },
  {
   "cell_type": "code",
   "execution_count": 7,
   "metadata": {},
   "outputs": [],
   "source": [
    "import requests"
   ]
  },
  {
   "cell_type": "code",
   "execution_count": 8,
   "metadata": {},
   "outputs": [],
   "source": [
    "# GET 요청을 보내고 응답을 받아와 res 변수에 할당한다.\n",
    "url = 'http://www.bobaedream.co.kr/mycar/mycar_list.php?sel_m_gubun=ALL&page=2'\n",
    "res = requests.get(url)"
   ]
  },
  {
   "cell_type": "code",
   "execution_count": 9,
   "metadata": {},
   "outputs": [
    {
     "data": {
      "text/plain": [
       "<Response [200]>"
      ]
     },
     "execution_count": 9,
     "metadata": {},
     "output_type": "execute_result"
    }
   ],
   "source": [
    "res"
   ]
  },
  {
   "cell_type": "code",
   "execution_count": 10,
   "metadata": {},
   "outputs": [
    {
     "data": {
      "text/plain": [
       "200"
      ]
     },
     "execution_count": 10,
     "metadata": {},
     "output_type": "execute_result"
    }
   ],
   "source": [
    "res.status_code\n",
    "# 응답의 상태 코드를 확인하면 200번을 얻는다."
   ]
  },
  {
   "cell_type": "code",
   "execution_count": 11,
   "metadata": {},
   "outputs": [
    {
     "data": {
      "text/plain": [
       "<Response [404]>"
      ]
     },
     "execution_count": 11,
     "metadata": {},
     "output_type": "execute_result"
    }
   ],
   "source": [
    "requests.get('http://www.bobaedream.co.kr/aaaaaaa')"
   ]
  },
  {
   "cell_type": "markdown",
   "metadata": {},
   "source": [
    "## 상태코드\n",
    "\n",
    "- 2XX: 성공\n",
    "- 3XX: 다른 주소로 이동\n",
    "- 4XX: 클라이언트 오류\n",
    "  - 404: 존재하지 않는 주소\n",
    "- 5XX: 서버 오류\n",
    "  - 503: 서버가 다운 등의 문제로 서비스 불가 상태"
   ]
  },
  {
   "cell_type": "markdown",
   "metadata": {},
   "source": [
    "## HTML\n",
    "\n",
    "- 웹 페이지의 내용을 표현하는 방법\n",
    "- 노드라는 단위로 구성\n",
    "- 하나의 노드는 여는 태그, 태그의 내용, 닫는 태그로 구성\n",
    "- 예: `<a href=\"http://www.google.com\">구글</a>`\n",
    "  - 여는 태그: `<a href=\"http://www.google.com\">`\n",
    "  - 내용: `구글`\n",
    "  - 닫는 태그: `</a>`"
   ]
  },
  {
   "cell_type": "markdown",
   "metadata": {},
   "source": [
    "## 개발자 도구\n",
    "\n",
    "- 웹 브라우저에서 F12 또는 우클릭 후 \"검사\" 메뉴를 클릭하면 개발자도구로 진입\n",
    "- HTML의 구조와 통신 내역 등을 확인"
   ]
  },
  {
   "cell_type": "markdown",
   "metadata": {},
   "source": [
    "## HTML의 주요 태그\n",
    "\n",
    "- div: 구역(division)\n",
    "- span: 범위(span)\n",
    "- ul: 번호 없는 리스트(unordered list)\n",
    "- ol: 번호 리스트(ordered list)\n",
    "- li: 리스트 항목(list item)\n",
    "- a: 링크(anchor)"
   ]
  },
  {
   "cell_type": "markdown",
   "metadata": {},
   "source": [
    "## 응답 내용에서 특정 태그 찾기\n",
    "\n",
    "먼저 cssselect 패키지를 설치한다."
   ]
  },
  {
   "cell_type": "code",
   "execution_count": 16,
   "metadata": {},
   "outputs": [
    {
     "name": "stdout",
     "output_type": "stream",
     "text": [
      "Requirement already satisfied: cssselect in c:\\users\\tj\\anaconda3\\lib\\site-packages (1.1.0)\n"
     ]
    }
   ],
   "source": [
    "!pip install cssselect"
   ]
  },
  {
   "cell_type": "markdown",
   "metadata": {},
   "source": [
    "HTML 해석을 위한 lxml.html을 불러온다."
   ]
  },
  {
   "cell_type": "code",
   "execution_count": 17,
   "metadata": {},
   "outputs": [],
   "source": [
    "import lxml.html"
   ]
  },
  {
   "cell_type": "markdown",
   "metadata": {},
   "source": [
    "응답의 텍스트(res.text)를 해석한다."
   ]
  },
  {
   "cell_type": "code",
   "execution_count": 18,
   "metadata": {},
   "outputs": [],
   "source": [
    "root = lxml.html.fromstring(res.text)"
   ]
  },
  {
   "cell_type": "markdown",
   "metadata": {},
   "source": [
    "a 태그를 모두 찾는다."
   ]
  },
  {
   "cell_type": "code",
   "execution_count": 19,
   "metadata": {},
   "outputs": [
    {
     "data": {
      "text/plain": [
       "[<Element a at 0x1f29c6dbef8>,\n",
       " <Element a at 0x1f29c6dbe58>,\n",
       " <Element a at 0x1f29c6e5098>,\n",
       " <Element a at 0x1f29c6e50e8>,\n",
       " <Element a at 0x1f29c6e5138>,\n",
       " <Element a at 0x1f29c6e5188>,\n",
       " <Element a at 0x1f29c6e51d8>,\n",
       " <Element a at 0x1f29c6e5228>,\n",
       " <Element a at 0x1f29c6e5278>,\n",
       " <Element a at 0x1f29c6e52c8>,\n",
       " <Element a at 0x1f29c6e5318>,\n",
       " <Element a at 0x1f29c6e5368>,\n",
       " <Element a at 0x1f29c6e53b8>,\n",
       " <Element a at 0x1f29c6e5408>,\n",
       " <Element a at 0x1f29c6e5458>,\n",
       " <Element a at 0x1f29c6e54a8>,\n",
       " <Element a at 0x1f29c6e54f8>,\n",
       " <Element a at 0x1f29c6e5548>,\n",
       " <Element a at 0x1f29c6e5598>,\n",
       " <Element a at 0x1f29c6e55e8>,\n",
       " <Element a at 0x1f29c6e5638>,\n",
       " <Element a at 0x1f29c6e5688>,\n",
       " <Element a at 0x1f29c6e56d8>,\n",
       " <Element a at 0x1f29c6e5728>,\n",
       " <Element a at 0x1f29c6e5778>,\n",
       " <Element a at 0x1f29c6e57c8>,\n",
       " <Element a at 0x1f29c6e5818>,\n",
       " <Element a at 0x1f29c6e5868>,\n",
       " <Element a at 0x1f29c6e58b8>,\n",
       " <Element a at 0x1f29c6e5908>,\n",
       " <Element a at 0x1f29c6e5958>,\n",
       " <Element a at 0x1f29c6e59a8>,\n",
       " <Element a at 0x1f29c6e59f8>,\n",
       " <Element a at 0x1f29c6e5a48>,\n",
       " <Element a at 0x1f29c6e5a98>,\n",
       " <Element a at 0x1f29c6e5ae8>,\n",
       " <Element a at 0x1f29c6e5b38>,\n",
       " <Element a at 0x1f29c6e5b88>,\n",
       " <Element a at 0x1f29c6e5bd8>,\n",
       " <Element a at 0x1f29c6e5c28>,\n",
       " <Element a at 0x1f29c6e5c78>,\n",
       " <Element a at 0x1f29c6e5cc8>,\n",
       " <Element a at 0x1f29c6e5d18>,\n",
       " <Element a at 0x1f29c6e5d68>,\n",
       " <Element a at 0x1f29c6e5db8>,\n",
       " <Element a at 0x1f29c6e5e08>,\n",
       " <Element a at 0x1f29c6e5e58>,\n",
       " <Element a at 0x1f29c6e5ea8>,\n",
       " <Element a at 0x1f29c6e5ef8>,\n",
       " <Element a at 0x1f29c6e5f48>,\n",
       " <Element a at 0x1f29c6e5f98>,\n",
       " <Element a at 0x1f29c6e7048>,\n",
       " <Element a at 0x1f29c6e7098>,\n",
       " <Element a at 0x1f29c6e70e8>,\n",
       " <Element a at 0x1f29c6e7138>,\n",
       " <Element a at 0x1f29c6e7188>,\n",
       " <Element a at 0x1f29c6e71d8>,\n",
       " <Element a at 0x1f29c6e7228>,\n",
       " <Element a at 0x1f29c6e7278>,\n",
       " <Element a at 0x1f29c6e72c8>,\n",
       " <Element a at 0x1f29c6e7318>,\n",
       " <Element a at 0x1f29c6e7368>,\n",
       " <Element a at 0x1f29c6e73b8>,\n",
       " <Element a at 0x1f29c6e7408>,\n",
       " <Element a at 0x1f29c6e7458>,\n",
       " <Element a at 0x1f29c6e74a8>,\n",
       " <Element a at 0x1f29c6e74f8>,\n",
       " <Element a at 0x1f29c6e7548>,\n",
       " <Element a at 0x1f29c6e7598>,\n",
       " <Element a at 0x1f29c6e75e8>,\n",
       " <Element a at 0x1f29c6e7638>,\n",
       " <Element a at 0x1f29c6e7688>,\n",
       " <Element a at 0x1f29c6e76d8>,\n",
       " <Element a at 0x1f29c6e7728>,\n",
       " <Element a at 0x1f29c6e7778>,\n",
       " <Element a at 0x1f29c6e77c8>,\n",
       " <Element a at 0x1f29c6e7818>,\n",
       " <Element a at 0x1f29c6e7868>,\n",
       " <Element a at 0x1f29c6e78b8>,\n",
       " <Element a at 0x1f29c6e7908>,\n",
       " <Element a at 0x1f29c6e7958>,\n",
       " <Element a at 0x1f29c6e79a8>,\n",
       " <Element a at 0x1f29c6e79f8>,\n",
       " <Element a at 0x1f29c6e7a48>,\n",
       " <Element a at 0x1f29c6e7a98>,\n",
       " <Element a at 0x1f29c6e7ae8>,\n",
       " <Element a at 0x1f29c6e7b38>,\n",
       " <Element a at 0x1f29c6e7b88>,\n",
       " <Element a at 0x1f29c6e7bd8>,\n",
       " <Element a at 0x1f29c6e7c28>,\n",
       " <Element a at 0x1f29c6e7c78>,\n",
       " <Element a at 0x1f29c6e7cc8>,\n",
       " <Element a at 0x1f29c6e7d18>,\n",
       " <Element a at 0x1f29c6e7d68>,\n",
       " <Element a at 0x1f29c6e7db8>,\n",
       " <Element a at 0x1f29c6e7e08>,\n",
       " <Element a at 0x1f29c6e7e58>,\n",
       " <Element a at 0x1f29c6e7ea8>,\n",
       " <Element a at 0x1f29c6e7ef8>,\n",
       " <Element a at 0x1f29c6e7f48>,\n",
       " <Element a at 0x1f29c6e7f98>,\n",
       " <Element a at 0x1f29c6e8048>,\n",
       " <Element a at 0x1f29c6e8098>,\n",
       " <Element a at 0x1f29c6e80e8>,\n",
       " <Element a at 0x1f29c6e8138>,\n",
       " <Element a at 0x1f29c6e8188>,\n",
       " <Element a at 0x1f29c6e81d8>,\n",
       " <Element a at 0x1f29c6e8228>,\n",
       " <Element a at 0x1f29c6e8278>,\n",
       " <Element a at 0x1f29c6e82c8>,\n",
       " <Element a at 0x1f29c6e8318>,\n",
       " <Element a at 0x1f29c6e8368>,\n",
       " <Element a at 0x1f29c6e83b8>,\n",
       " <Element a at 0x1f29c6e8408>,\n",
       " <Element a at 0x1f29c6e8458>,\n",
       " <Element a at 0x1f29c6e84a8>,\n",
       " <Element a at 0x1f29c6e84f8>,\n",
       " <Element a at 0x1f29c6e8548>,\n",
       " <Element a at 0x1f29c6e8598>,\n",
       " <Element a at 0x1f29c6e85e8>,\n",
       " <Element a at 0x1f29c6e8638>,\n",
       " <Element a at 0x1f29c6e8688>,\n",
       " <Element a at 0x1f29c6e86d8>,\n",
       " <Element a at 0x1f29c6e8728>,\n",
       " <Element a at 0x1f29c6e8778>,\n",
       " <Element a at 0x1f29c6e87c8>,\n",
       " <Element a at 0x1f29c6e8818>,\n",
       " <Element a at 0x1f29c6e8868>,\n",
       " <Element a at 0x1f29c6e88b8>,\n",
       " <Element a at 0x1f29c6e8908>,\n",
       " <Element a at 0x1f29c6e8958>,\n",
       " <Element a at 0x1f29c6e89a8>,\n",
       " <Element a at 0x1f29c6e89f8>,\n",
       " <Element a at 0x1f29c6e8a48>,\n",
       " <Element a at 0x1f29c6e8a98>,\n",
       " <Element a at 0x1f29c6e8ae8>,\n",
       " <Element a at 0x1f29c6e8b38>,\n",
       " <Element a at 0x1f29c6e8b88>,\n",
       " <Element a at 0x1f29c6e8bd8>,\n",
       " <Element a at 0x1f29c6e8c28>,\n",
       " <Element a at 0x1f29c6e8c78>,\n",
       " <Element a at 0x1f29c6e8cc8>,\n",
       " <Element a at 0x1f29c6e8d18>,\n",
       " <Element a at 0x1f29c6e8d68>,\n",
       " <Element a at 0x1f29c6e8db8>,\n",
       " <Element a at 0x1f29c6e8e08>,\n",
       " <Element a at 0x1f29c6e8e58>,\n",
       " <Element a at 0x1f29c6e8ea8>,\n",
       " <Element a at 0x1f29c6e8ef8>,\n",
       " <Element a at 0x1f29c6e8f48>,\n",
       " <Element a at 0x1f29c6e8f98>,\n",
       " <Element a at 0x1f29c6e9048>,\n",
       " <Element a at 0x1f29c6e9098>,\n",
       " <Element a at 0x1f29c6e90e8>,\n",
       " <Element a at 0x1f29c6e9138>,\n",
       " <Element a at 0x1f29c6e9188>,\n",
       " <Element a at 0x1f29c6e91d8>,\n",
       " <Element a at 0x1f29c6e9228>,\n",
       " <Element a at 0x1f29c6e9278>,\n",
       " <Element a at 0x1f29c6e92c8>,\n",
       " <Element a at 0x1f29c6e9318>,\n",
       " <Element a at 0x1f29c6e9368>,\n",
       " <Element a at 0x1f29c6e93b8>,\n",
       " <Element a at 0x1f29c6e9408>,\n",
       " <Element a at 0x1f29c6e9458>,\n",
       " <Element a at 0x1f29c6e94a8>,\n",
       " <Element a at 0x1f29c6e94f8>,\n",
       " <Element a at 0x1f29c6e9548>,\n",
       " <Element a at 0x1f29c6e9598>,\n",
       " <Element a at 0x1f29c6e95e8>,\n",
       " <Element a at 0x1f29c6e9638>,\n",
       " <Element a at 0x1f29c6e9688>,\n",
       " <Element a at 0x1f29c6e96d8>,\n",
       " <Element a at 0x1f29c6e9728>,\n",
       " <Element a at 0x1f29c6e9778>,\n",
       " <Element a at 0x1f29c6e97c8>,\n",
       " <Element a at 0x1f29c6e9818>,\n",
       " <Element a at 0x1f29c6e9868>,\n",
       " <Element a at 0x1f29c6e98b8>,\n",
       " <Element a at 0x1f29c6e9908>,\n",
       " <Element a at 0x1f29c6e9958>,\n",
       " <Element a at 0x1f29c6e99a8>,\n",
       " <Element a at 0x1f29c6e99f8>,\n",
       " <Element a at 0x1f29c6e9a48>,\n",
       " <Element a at 0x1f29c6e9a98>,\n",
       " <Element a at 0x1f29c6e9ae8>,\n",
       " <Element a at 0x1f29c6e9b38>,\n",
       " <Element a at 0x1f29c6e9b88>,\n",
       " <Element a at 0x1f29c6e9bd8>,\n",
       " <Element a at 0x1f29c6e9c28>,\n",
       " <Element a at 0x1f29c6e9c78>,\n",
       " <Element a at 0x1f29c6e9cc8>,\n",
       " <Element a at 0x1f29c6e9d18>,\n",
       " <Element a at 0x1f29c6e9d68>,\n",
       " <Element a at 0x1f29c6e9db8>,\n",
       " <Element a at 0x1f29c6e9e08>,\n",
       " <Element a at 0x1f29c6e9e58>,\n",
       " <Element a at 0x1f29c6e9ea8>,\n",
       " <Element a at 0x1f29c6e9ef8>,\n",
       " <Element a at 0x1f29c6e9f48>,\n",
       " <Element a at 0x1f29c6e9f98>,\n",
       " <Element a at 0x1f29c6ea048>,\n",
       " <Element a at 0x1f29c6ea098>,\n",
       " <Element a at 0x1f29c6ea0e8>,\n",
       " <Element a at 0x1f29c6ea138>,\n",
       " <Element a at 0x1f29c6ea188>,\n",
       " <Element a at 0x1f29c6ea1d8>,\n",
       " <Element a at 0x1f29c6ea228>,\n",
       " <Element a at 0x1f29c6ea278>,\n",
       " <Element a at 0x1f29c6ea2c8>,\n",
       " <Element a at 0x1f29c6ea318>,\n",
       " <Element a at 0x1f29c6ea368>,\n",
       " <Element a at 0x1f29c6ea3b8>,\n",
       " <Element a at 0x1f29c6ea408>,\n",
       " <Element a at 0x1f29c6ea458>,\n",
       " <Element a at 0x1f29c6ea4a8>,\n",
       " <Element a at 0x1f29c6ea4f8>,\n",
       " <Element a at 0x1f29c6ea548>,\n",
       " <Element a at 0x1f29c6ea598>,\n",
       " <Element a at 0x1f29c6ea5e8>,\n",
       " <Element a at 0x1f29c6ea638>,\n",
       " <Element a at 0x1f29c6ea688>,\n",
       " <Element a at 0x1f29c6ea6d8>,\n",
       " <Element a at 0x1f29c6ea728>,\n",
       " <Element a at 0x1f29c6ea778>,\n",
       " <Element a at 0x1f29c6ea7c8>,\n",
       " <Element a at 0x1f29c6ea818>,\n",
       " <Element a at 0x1f29c6ea868>,\n",
       " <Element a at 0x1f29c6ea8b8>,\n",
       " <Element a at 0x1f29c6ea908>,\n",
       " <Element a at 0x1f29c6ea958>,\n",
       " <Element a at 0x1f29c6ea9a8>,\n",
       " <Element a at 0x1f29c6ea9f8>,\n",
       " <Element a at 0x1f29c6eaa48>,\n",
       " <Element a at 0x1f29c6eaa98>,\n",
       " <Element a at 0x1f29c6eaae8>,\n",
       " <Element a at 0x1f29c6eab38>,\n",
       " <Element a at 0x1f29c6eab88>,\n",
       " <Element a at 0x1f29c6eabd8>,\n",
       " <Element a at 0x1f29c6eac28>,\n",
       " <Element a at 0x1f29c6eac78>,\n",
       " <Element a at 0x1f29c6eacc8>,\n",
       " <Element a at 0x1f29c6ead18>,\n",
       " <Element a at 0x1f29c6ead68>,\n",
       " <Element a at 0x1f29c6eadb8>,\n",
       " <Element a at 0x1f29c6eae08>,\n",
       " <Element a at 0x1f29c6eae58>,\n",
       " <Element a at 0x1f29c6eaea8>,\n",
       " <Element a at 0x1f29c6eaef8>,\n",
       " <Element a at 0x1f29c6eaf48>,\n",
       " <Element a at 0x1f29c6eaf98>,\n",
       " <Element a at 0x1f29c6eb048>,\n",
       " <Element a at 0x1f29c6eb098>,\n",
       " <Element a at 0x1f29c6eb0e8>,\n",
       " <Element a at 0x1f29c6eb138>,\n",
       " <Element a at 0x1f29c6eb188>,\n",
       " <Element a at 0x1f29c6eb1d8>,\n",
       " <Element a at 0x1f29c6eb228>,\n",
       " <Element a at 0x1f29c6eb278>,\n",
       " <Element a at 0x1f29c6eb2c8>,\n",
       " <Element a at 0x1f29c6eb318>,\n",
       " <Element a at 0x1f29c6eb368>,\n",
       " <Element a at 0x1f29c6eb3b8>,\n",
       " <Element a at 0x1f29c6eb408>,\n",
       " <Element a at 0x1f29c6eb458>,\n",
       " <Element a at 0x1f29c6eb4a8>,\n",
       " <Element a at 0x1f29c6eb4f8>,\n",
       " <Element a at 0x1f29c6eb548>,\n",
       " <Element a at 0x1f29c6eb598>,\n",
       " <Element a at 0x1f29c6eb5e8>,\n",
       " <Element a at 0x1f29c6eb638>,\n",
       " <Element a at 0x1f29c6eb688>,\n",
       " <Element a at 0x1f29c6eb6d8>,\n",
       " <Element a at 0x1f29c6eb728>,\n",
       " <Element a at 0x1f29c6eb778>,\n",
       " <Element a at 0x1f29c6eb7c8>,\n",
       " <Element a at 0x1f29c6eb818>,\n",
       " <Element a at 0x1f29c6eb868>,\n",
       " <Element a at 0x1f29c6eb8b8>,\n",
       " <Element a at 0x1f29c6eb908>,\n",
       " <Element a at 0x1f29c6eb958>,\n",
       " <Element a at 0x1f29c6eb9a8>,\n",
       " <Element a at 0x1f29c6eb9f8>,\n",
       " <Element a at 0x1f29c6eba48>,\n",
       " <Element a at 0x1f29c6eba98>,\n",
       " <Element a at 0x1f29c6ebae8>,\n",
       " <Element a at 0x1f29c6ebb38>,\n",
       " <Element a at 0x1f29c6ebb88>,\n",
       " <Element a at 0x1f29c6ebbd8>,\n",
       " <Element a at 0x1f29c6ebc28>,\n",
       " <Element a at 0x1f29c6ebc78>,\n",
       " <Element a at 0x1f29c6ebcc8>,\n",
       " <Element a at 0x1f29c6ebd18>,\n",
       " <Element a at 0x1f29c6ebd68>,\n",
       " <Element a at 0x1f29c6ebdb8>,\n",
       " <Element a at 0x1f29c6ebe08>,\n",
       " <Element a at 0x1f29c6ebe58>,\n",
       " <Element a at 0x1f29c6ebea8>,\n",
       " <Element a at 0x1f29c6ebef8>,\n",
       " <Element a at 0x1f29c6ebf48>,\n",
       " <Element a at 0x1f29c6ebf98>,\n",
       " <Element a at 0x1f29c6ec048>,\n",
       " <Element a at 0x1f29c6ec098>,\n",
       " <Element a at 0x1f29c6ec0e8>,\n",
       " <Element a at 0x1f29c6ec138>,\n",
       " <Element a at 0x1f29c6ec188>,\n",
       " <Element a at 0x1f29c6ec1d8>,\n",
       " <Element a at 0x1f29c6ec228>,\n",
       " <Element a at 0x1f29c6ec278>,\n",
       " <Element a at 0x1f29c6ec2c8>,\n",
       " <Element a at 0x1f29c6ec318>,\n",
       " <Element a at 0x1f29c6ec368>,\n",
       " <Element a at 0x1f29c6ec3b8>,\n",
       " <Element a at 0x1f29c6ec408>,\n",
       " <Element a at 0x1f29c6ec458>,\n",
       " <Element a at 0x1f29c6ec4a8>,\n",
       " <Element a at 0x1f29c6ec4f8>,\n",
       " <Element a at 0x1f29c6ec548>,\n",
       " <Element a at 0x1f29c6ec598>,\n",
       " <Element a at 0x1f29c6ec5e8>,\n",
       " <Element a at 0x1f29c6ec638>,\n",
       " <Element a at 0x1f29c6ec688>,\n",
       " <Element a at 0x1f29c6ec6d8>,\n",
       " <Element a at 0x1f29c6ec728>,\n",
       " <Element a at 0x1f29c6ec778>,\n",
       " <Element a at 0x1f29c6ec7c8>,\n",
       " <Element a at 0x1f29c6ec818>,\n",
       " <Element a at 0x1f29c6ec868>,\n",
       " <Element a at 0x1f29c6ec8b8>,\n",
       " <Element a at 0x1f29c6ec908>,\n",
       " <Element a at 0x1f29c6ec958>,\n",
       " <Element a at 0x1f29c6ec9a8>,\n",
       " <Element a at 0x1f29c6ec9f8>,\n",
       " <Element a at 0x1f29c6eca48>,\n",
       " <Element a at 0x1f29c6eca98>,\n",
       " <Element a at 0x1f29c6ecae8>,\n",
       " <Element a at 0x1f29c6ecb38>,\n",
       " <Element a at 0x1f29c6ecb88>,\n",
       " <Element a at 0x1f29c6ecbd8>,\n",
       " <Element a at 0x1f29c6ecc28>,\n",
       " <Element a at 0x1f29c6ecc78>,\n",
       " <Element a at 0x1f29c6eccc8>,\n",
       " <Element a at 0x1f29c6ecd18>,\n",
       " <Element a at 0x1f29c6ecd68>,\n",
       " <Element a at 0x1f29c6ecdb8>,\n",
       " <Element a at 0x1f29c6ece08>,\n",
       " <Element a at 0x1f29c6ece58>]"
      ]
     },
     "execution_count": 19,
     "metadata": {},
     "output_type": "execute_result"
    }
   ],
   "source": [
    "root.cssselect('a')"
   ]
  },
  {
   "cell_type": "markdown",
   "metadata": {},
   "source": [
    "## 속성\n",
    "HTML 태그는 **속성**(attribute)라는 추가 정보를 포함한다. 대표적인 것은 다음과 같다.\n",
    "\n",
    "- `id`: 노드의 고유 아이디\n",
    "- `class`: 노드의 서식 유형\n",
    "- `href`: `a` 태그에만 사용. 링크된 주소.\n",
    "\n",
    "## CSS 선택자\n",
    "- HTML에서 특정 노드를 선택하기 위한 표기법\n",
    "- `.cssselect` 함수에 사용한다\n",
    "\n",
    "## 클래스의 선택자\n",
    "- 특정 class의 태그를 지정할 때는 `태그.클래스`와 같이 `.`으로 표시한다\n",
    "- 선택자에서 `p.tit`는 HTML에서 `<p class=\"tit\">`"
   ]
  },
  {
   "cell_type": "code",
   "execution_count": 20,
   "metadata": {},
   "outputs": [
    {
     "data": {
      "text/plain": [
       "[<Element em at 0x1f29c6ed278>,\n",
       " <Element em at 0x1f29c6ed1d8>,\n",
       " <Element em at 0x1f29c6ed3b8>,\n",
       " <Element em at 0x1f29c6ed408>,\n",
       " <Element em at 0x1f29c6ed458>,\n",
       " <Element em at 0x1f29c6ed4a8>,\n",
       " <Element em at 0x1f29c6ed4f8>,\n",
       " <Element em at 0x1f29c6ed548>,\n",
       " <Element em at 0x1f29c6ed598>,\n",
       " <Element em at 0x1f29c6ed5e8>,\n",
       " <Element em at 0x1f29c6ed638>,\n",
       " <Element em at 0x1f29c6ed688>,\n",
       " <Element em at 0x1f29c6ed6d8>,\n",
       " <Element em at 0x1f29c6ed728>]"
      ]
     },
     "execution_count": 20,
     "metadata": {},
     "output_type": "execute_result"
    }
   ],
   "source": [
    "root.cssselect('em.cr')"
   ]
  },
  {
   "cell_type": "markdown",
   "metadata": {},
   "source": [
    "## 클래스가 2개일 때\n",
    "- `태그.클래스1.클래스2`와 같이 `.`으로 구분하여 표시한다\n",
    "- 선택자에서 `p.tit.ellipsis`는 HTML에서 `<p class=\"tit ellipsis\">`\n",
    "- `p.tit`이나 `p.ellipsis`만 해도 `p.tit.ellipsis`는 선택 된다\n",
    "\n",
    "## 포함관계인 노드의 선택자\n",
    "```html\n",
    "<p class=\"tit ellipsis\">\n",
    "    <a href=\"...\">아우디 A8</a>\n",
    "</p>\n",
    "```\n",
    "- 위의 예는 `p` 태그 안에 `a` 태그가 포함됨\n",
    "- 선택자에서 포함관계는 공백으로 표시: `p.tit a`"
   ]
  },
  {
   "cell_type": "code",
   "execution_count": 21,
   "metadata": {},
   "outputs": [],
   "source": [
    "links = root.cssselect('p.tit a')"
   ]
  },
  {
   "cell_type": "code",
   "execution_count": 22,
   "metadata": {},
   "outputs": [
    {
     "data": {
      "text/plain": [
       "[<Element a at 0x1f29c6e9958>,\n",
       " <Element a at 0x1f29c6e9b38>,\n",
       " <Element a at 0x1f29c6e9d18>,\n",
       " <Element a at 0x1f29c6e9ef8>,\n",
       " <Element a at 0x1f29c6ea138>,\n",
       " <Element a at 0x1f29c6ea318>,\n",
       " <Element a at 0x1f29c6ea4f8>,\n",
       " <Element a at 0x1f29c6ea688>,\n",
       " <Element a at 0x1f29c6ea868>,\n",
       " <Element a at 0x1f29c6eaa48>,\n",
       " <Element a at 0x1f29c6eacc8>,\n",
       " <Element a at 0x1f29c6eaf48>,\n",
       " <Element a at 0x1f29c6eb188>,\n",
       " <Element a at 0x1f29c6eb368>,\n",
       " <Element a at 0x1f29c6eb638>,\n",
       " <Element a at 0x1f29c6eb868>,\n",
       " <Element a at 0x1f29c6eba98>,\n",
       " <Element a at 0x1f29c6ebcc8>,\n",
       " <Element a at 0x1f29c6ebef8>,\n",
       " <Element a at 0x1f29c6ec138>]"
      ]
     },
     "execution_count": 22,
     "metadata": {},
     "output_type": "execute_result"
    }
   ],
   "source": [
    "links"
   ]
  },
  {
   "cell_type": "markdown",
   "metadata": {},
   "source": [
    "## href 속성 모으기\n",
    "\n",
    "링크의 걸린 주소를 수집한다"
   ]
  },
  {
   "cell_type": "code",
   "execution_count": 23,
   "metadata": {},
   "outputs": [],
   "source": [
    "link = links[0]"
   ]
  },
  {
   "cell_type": "code",
   "execution_count": 24,
   "metadata": {},
   "outputs": [
    {
     "data": {
      "text/plain": [
       "'/mycar/mycar_view.php?no=2047135&gubun=K'"
      ]
     },
     "execution_count": 24,
     "metadata": {},
     "output_type": "execute_result"
    }
   ],
   "source": [
    "link.attrib['href'] "
   ]
  },
  {
   "cell_type": "code",
   "execution_count": 25,
   "metadata": {},
   "outputs": [
    {
     "name": "stdout",
     "output_type": "stream",
     "text": [
      "/mycar/mycar_view.php?no=2047135&gubun=K\n",
      "/mycar/mycar_view.php?no=2050920&gubun=K\n",
      "/mycar/mycar_view.php?no=2047682&gubun=K\n",
      "/mycar/mycar_view.php?no=2046087&gubun=K\n",
      "/mycar/mycar_view.php?no=2046080&gubun=K\n",
      "/mycar/mycar_view.php?no=2048114&gubun=K\n",
      "/mycar/mycar_view.php?no=2048205&gubun=K\n",
      "/mycar/mycar_view.php?no=2040496&gubun=K\n",
      "/mycar/mycar_view.php?no=2040137&gubun=K\n",
      "/mycar/mycar_view.php?no=2037699&gubun=I\n",
      "/mycar/mycar_view.php?no=2037700&gubun=I\n",
      "/mycar/mycar_view.php?no=2049033&gubun=K\n",
      "/mycar/mycar_view.php?no=2051032&gubun=I\n",
      "/mycar/mycar_view.php?no=2033273&gubun=I\n",
      "/mycar/mycar_view.php?no=2031071&gubun=K\n",
      "/mycar/mycar_view.php?no=2008216&gubun=I\n",
      "/mycar/mycar_view.php?no=2011995&gubun=I\n",
      "/mycar/mycar_view.php?no=2049037&gubun=K\n",
      "/mycar/mycar_view.php?no=2013169&gubun=I\n",
      "/mycar/mycar_view.php?no=1965609&gubun=I\n"
     ]
    }
   ],
   "source": [
    "for link in links:\n",
    "    print(link.attrib['href'])"
   ]
  },
  {
   "cell_type": "code",
   "execution_count": 26,
   "metadata": {},
   "outputs": [
    {
     "data": {
      "text/plain": [
       "[1, 2, 3, 5]"
      ]
     },
     "execution_count": 26,
     "metadata": {},
     "output_type": "execute_result"
    }
   ],
   "source": [
    "x = [1,2,3]\n",
    "x.append(5)\n",
    "x"
   ]
  },
  {
   "cell_type": "code",
   "execution_count": 27,
   "metadata": {},
   "outputs": [],
   "source": [
    "urls = []\n",
    "for link in links:\n",
    "    urls.append(link.attrib['href'])"
   ]
  },
  {
   "cell_type": "code",
   "execution_count": 28,
   "metadata": {},
   "outputs": [
    {
     "data": {
      "text/plain": [
       "['/mycar/mycar_view.php?no=2047135&gubun=K',\n",
       " '/mycar/mycar_view.php?no=2050920&gubun=K',\n",
       " '/mycar/mycar_view.php?no=2047682&gubun=K',\n",
       " '/mycar/mycar_view.php?no=2046087&gubun=K',\n",
       " '/mycar/mycar_view.php?no=2046080&gubun=K',\n",
       " '/mycar/mycar_view.php?no=2048114&gubun=K',\n",
       " '/mycar/mycar_view.php?no=2048205&gubun=K',\n",
       " '/mycar/mycar_view.php?no=2040496&gubun=K',\n",
       " '/mycar/mycar_view.php?no=2040137&gubun=K',\n",
       " '/mycar/mycar_view.php?no=2037699&gubun=I',\n",
       " '/mycar/mycar_view.php?no=2037700&gubun=I',\n",
       " '/mycar/mycar_view.php?no=2049033&gubun=K',\n",
       " '/mycar/mycar_view.php?no=2051032&gubun=I',\n",
       " '/mycar/mycar_view.php?no=2033273&gubun=I',\n",
       " '/mycar/mycar_view.php?no=2031071&gubun=K',\n",
       " '/mycar/mycar_view.php?no=2008216&gubun=I',\n",
       " '/mycar/mycar_view.php?no=2011995&gubun=I',\n",
       " '/mycar/mycar_view.php?no=2049037&gubun=K',\n",
       " '/mycar/mycar_view.php?no=2013169&gubun=I',\n",
       " '/mycar/mycar_view.php?no=1965609&gubun=I']"
      ]
     },
     "execution_count": 28,
     "metadata": {},
     "output_type": "execute_result"
    }
   ],
   "source": [
    "urls"
   ]
  },
  {
   "cell_type": "markdown",
   "metadata": {},
   "source": [
    "## 상대주소\n",
    "\n",
    "- `/mycar/mycar_view.php?no=1944109&gubun=K`는 스키마와 호스트가 생략된 상대주소\n",
    "\n",
    "- 원래 주소 `http://www.bobaedream.co.kr/mycar/mycar_list.php?sel_m_gubun=ALL&page=2`를 이용해 절대주소로 변환"
   ]
  },
  {
   "cell_type": "code",
   "execution_count": 29,
   "metadata": {},
   "outputs": [],
   "source": [
    "import urllib.parse"
   ]
  },
  {
   "cell_type": "code",
   "execution_count": 30,
   "metadata": {},
   "outputs": [
    {
     "data": {
      "text/plain": [
       "'http://www.bobaedream.co.kr/mycar/mycar_view.php?no=1944109&gubun=K'"
      ]
     },
     "execution_count": 30,
     "metadata": {},
     "output_type": "execute_result"
    }
   ],
   "source": [
    "urllib.parse.urljoin(url, '/mycar/mycar_view.php?no=1944109&gubun=K')"
   ]
  },
  {
   "cell_type": "markdown",
   "metadata": {},
   "source": [
    "링크된 주소를 절대 주소로 수집"
   ]
  },
  {
   "cell_type": "code",
   "execution_count": 31,
   "metadata": {},
   "outputs": [],
   "source": [
    "urls = []\n",
    "for link in links:\n",
    "    href = urllib.parse.urljoin(url, link.attrib['href'])\n",
    "    urls.append(href)"
   ]
  },
  {
   "cell_type": "code",
   "execution_count": 32,
   "metadata": {},
   "outputs": [
    {
     "data": {
      "text/plain": [
       "['http://www.bobaedream.co.kr/mycar/mycar_view.php?no=2047135&gubun=K',\n",
       " 'http://www.bobaedream.co.kr/mycar/mycar_view.php?no=2050920&gubun=K',\n",
       " 'http://www.bobaedream.co.kr/mycar/mycar_view.php?no=2047682&gubun=K',\n",
       " 'http://www.bobaedream.co.kr/mycar/mycar_view.php?no=2046087&gubun=K',\n",
       " 'http://www.bobaedream.co.kr/mycar/mycar_view.php?no=2046080&gubun=K',\n",
       " 'http://www.bobaedream.co.kr/mycar/mycar_view.php?no=2048114&gubun=K',\n",
       " 'http://www.bobaedream.co.kr/mycar/mycar_view.php?no=2048205&gubun=K',\n",
       " 'http://www.bobaedream.co.kr/mycar/mycar_view.php?no=2040496&gubun=K',\n",
       " 'http://www.bobaedream.co.kr/mycar/mycar_view.php?no=2040137&gubun=K',\n",
       " 'http://www.bobaedream.co.kr/mycar/mycar_view.php?no=2037699&gubun=I',\n",
       " 'http://www.bobaedream.co.kr/mycar/mycar_view.php?no=2037700&gubun=I',\n",
       " 'http://www.bobaedream.co.kr/mycar/mycar_view.php?no=2049033&gubun=K',\n",
       " 'http://www.bobaedream.co.kr/mycar/mycar_view.php?no=2051032&gubun=I',\n",
       " 'http://www.bobaedream.co.kr/mycar/mycar_view.php?no=2033273&gubun=I',\n",
       " 'http://www.bobaedream.co.kr/mycar/mycar_view.php?no=2031071&gubun=K',\n",
       " 'http://www.bobaedream.co.kr/mycar/mycar_view.php?no=2008216&gubun=I',\n",
       " 'http://www.bobaedream.co.kr/mycar/mycar_view.php?no=2011995&gubun=I',\n",
       " 'http://www.bobaedream.co.kr/mycar/mycar_view.php?no=2049037&gubun=K',\n",
       " 'http://www.bobaedream.co.kr/mycar/mycar_view.php?no=2013169&gubun=I',\n",
       " 'http://www.bobaedream.co.kr/mycar/mycar_view.php?no=1965609&gubun=I']"
      ]
     },
     "execution_count": 32,
     "metadata": {},
     "output_type": "execute_result"
    }
   ],
   "source": [
    "urls"
   ]
  },
  {
   "cell_type": "markdown",
   "metadata": {},
   "source": [
    "링크에서 텍스트를 추출"
   ]
  },
  {
   "cell_type": "code",
   "execution_count": 33,
   "metadata": {},
   "outputs": [],
   "source": [
    "texts = []\n",
    "for link in links:\n",
    "    texts.append(link.text_content())"
   ]
  },
  {
   "cell_type": "code",
   "execution_count": 34,
   "metadata": {},
   "outputs": [
    {
     "data": {
      "text/plain": [
       "['현대 그랜져HG 300 LPG 프리미엄',\n",
       " 'GM대우 알페온 EL300  슈프림',\n",
       " 'GM대우 토스카 L6 2.0 SX  고급형',\n",
       " '쌍용 액티언 CX5 4WD 고급형',\n",
       " 'GM대우 윈스톰 스페셜 에디션 7인승 2WD 익스트림',\n",
       " '현대 뉴 i30 1.6 VGT  유니크',\n",
       " '현대 아반떼MD M16 GDi   모던',\n",
       " '기아 그랜드카니발 LPI GLX 기본형',\n",
       " '르노삼성 뉴 SM5 LE',\n",
       " '포르쉐 박스터 S 3.4',\n",
       " '벤틀리 컨티넨탈 플라잉스퍼 6.0',\n",
       " '현대 싼타페DM 2.0 VGT 2WD  익스클루시브',\n",
       " '랜드로버 레인지로버 3.7 TDV8 보그',\n",
       " '벤틀리 뉴 컨티넨탈 GT 4.0 V8',\n",
       " '현대 아반떼AD 1.6 LPi 스타일 ',\n",
       " '람보르기니 우라칸 LP640-4 퍼포만테',\n",
       " '롤스로이스 고스트 시리즈2 V12 6.6',\n",
       " '기아 레이 1.0 밴  고급형',\n",
       " '람보르기니 아벤타도르 LP700-4',\n",
       " '랜드로버 레인지로버 이보크 2.0 TD4 SE']"
      ]
     },
     "execution_count": 34,
     "metadata": {},
     "output_type": "execute_result"
    }
   ],
   "source": [
    "texts"
   ]
  },
  {
   "cell_type": "markdown",
   "metadata": {},
   "source": [
    "수집된 주소를 저장"
   ]
  },
  {
   "cell_type": "code",
   "execution_count": 35,
   "metadata": {},
   "outputs": [],
   "source": [
    "import pandas"
   ]
  },
  {
   "cell_type": "code",
   "execution_count": 36,
   "metadata": {},
   "outputs": [],
   "source": [
    "df = pandas.DataFrame({'url': urls, 'text': texts})"
   ]
  },
  {
   "cell_type": "code",
   "execution_count": 37,
   "metadata": {},
   "outputs": [
    {
     "data": {
      "text/html": [
       "<div>\n",
       "<style scoped>\n",
       "    .dataframe tbody tr th:only-of-type {\n",
       "        vertical-align: middle;\n",
       "    }\n",
       "\n",
       "    .dataframe tbody tr th {\n",
       "        vertical-align: top;\n",
       "    }\n",
       "\n",
       "    .dataframe thead th {\n",
       "        text-align: right;\n",
       "    }\n",
       "</style>\n",
       "<table border=\"1\" class=\"dataframe\">\n",
       "  <thead>\n",
       "    <tr style=\"text-align: right;\">\n",
       "      <th></th>\n",
       "      <th>url</th>\n",
       "      <th>text</th>\n",
       "    </tr>\n",
       "  </thead>\n",
       "  <tbody>\n",
       "    <tr>\n",
       "      <th>0</th>\n",
       "      <td>http://www.bobaedream.co.kr/mycar/mycar_view.p...</td>\n",
       "      <td>현대 그랜져HG 300 LPG 프리미엄</td>\n",
       "    </tr>\n",
       "    <tr>\n",
       "      <th>1</th>\n",
       "      <td>http://www.bobaedream.co.kr/mycar/mycar_view.p...</td>\n",
       "      <td>GM대우 알페온 EL300  슈프림</td>\n",
       "    </tr>\n",
       "    <tr>\n",
       "      <th>2</th>\n",
       "      <td>http://www.bobaedream.co.kr/mycar/mycar_view.p...</td>\n",
       "      <td>GM대우 토스카 L6 2.0 SX  고급형</td>\n",
       "    </tr>\n",
       "    <tr>\n",
       "      <th>3</th>\n",
       "      <td>http://www.bobaedream.co.kr/mycar/mycar_view.p...</td>\n",
       "      <td>쌍용 액티언 CX5 4WD 고급형</td>\n",
       "    </tr>\n",
       "    <tr>\n",
       "      <th>4</th>\n",
       "      <td>http://www.bobaedream.co.kr/mycar/mycar_view.p...</td>\n",
       "      <td>GM대우 윈스톰 스페셜 에디션 7인승 2WD 익스트림</td>\n",
       "    </tr>\n",
       "  </tbody>\n",
       "</table>\n",
       "</div>"
      ],
      "text/plain": [
       "                                                 url  \\\n",
       "0  http://www.bobaedream.co.kr/mycar/mycar_view.p...   \n",
       "1  http://www.bobaedream.co.kr/mycar/mycar_view.p...   \n",
       "2  http://www.bobaedream.co.kr/mycar/mycar_view.p...   \n",
       "3  http://www.bobaedream.co.kr/mycar/mycar_view.p...   \n",
       "4  http://www.bobaedream.co.kr/mycar/mycar_view.p...   \n",
       "\n",
       "                            text  \n",
       "0          현대 그랜져HG 300 LPG 프리미엄  \n",
       "1            GM대우 알페온 EL300  슈프림  \n",
       "2        GM대우 토스카 L6 2.0 SX  고급형  \n",
       "3             쌍용 액티언 CX5 4WD 고급형  \n",
       "4  GM대우 윈스톰 스페셜 에디션 7인승 2WD 익스트림  "
      ]
     },
     "execution_count": 37,
     "metadata": {},
     "output_type": "execute_result"
    }
   ],
   "source": [
    "df.head()"
   ]
  },
  {
   "cell_type": "code",
   "execution_count": 38,
   "metadata": {},
   "outputs": [],
   "source": [
    "df.to_excel('중고차.xlsx')"
   ]
  },
  {
   "cell_type": "markdown",
   "metadata": {},
   "source": [
    "# 웹 스크랩 2"
   ]
  },
  {
   "cell_type": "markdown",
   "metadata": {},
   "source": [
    "## 네이버 의사모\n",
    "- PC버전: https://cafe.naver.com/duoin\n",
    "- 모바일버전: https://m.cafe.naver.com/duoin\n",
    "\n",
    "모바일 버전은 주소 m이 들어가있는 형태가 많음\n",
    "\n",
    "## 본문 긁기\n",
    "https://m.cafe.naver.com/ArticleRead.nhn?clubid=19773565&articleid=83048&page=1&boardtype=L&menuid=366"
   ]
  },
  {
   "cell_type": "code",
   "execution_count": 39,
   "metadata": {},
   "outputs": [],
   "source": [
    "import requests\n",
    "article_url = 'https://m.cafe.naver.com/ArticleRead.nhn?clubid=19773565&articleid=83048&page=1&boardtype=L&menuid=366'"
   ]
  },
  {
   "cell_type": "code",
   "execution_count": 40,
   "metadata": {},
   "outputs": [],
   "source": [
    "res = requests.get(article_url)"
   ]
  },
  {
   "cell_type": "markdown",
   "metadata": {},
   "source": [
    "## id 선택자\n",
    "\n",
    "- 본문 영역은 다음 태그로 감싸여 있다\n",
    "\n",
    "```html\n",
    "<div id=\"postContent\" class=\"post_cont font_zoom1\" style=\"overflow-x:auto;\">\n",
    "```\n",
    "\n",
    "- `id`는 선택자에서 `#`으로 표시"
   ]
  },
  {
   "cell_type": "code",
   "execution_count": 41,
   "metadata": {},
   "outputs": [],
   "source": [
    "import lxml.html\n",
    "root = lxml.html.fromstring(res.text)"
   ]
  },
  {
   "cell_type": "code",
   "execution_count": 42,
   "metadata": {},
   "outputs": [
    {
     "data": {
      "text/plain": [
       "[]"
      ]
     },
     "execution_count": 42,
     "metadata": {},
     "output_type": "execute_result"
    }
   ],
   "source": [
    "root.cssselect('div#postContent')"
   ]
  },
  {
   "cell_type": "markdown",
   "metadata": {},
   "source": [
    "## 본문 내용 보기\n",
    "\n",
    "- `cssselect`는 결과를 항상 리스트 형식으로 반환\n",
    "- 본문은 리스트의 첫번째 값이므로 0번을 지정"
   ]
  },
  {
   "cell_type": "code",
   "execution_count": 43,
   "metadata": {},
   "outputs": [
    {
     "ename": "IndexError",
     "evalue": "list index out of range",
     "output_type": "error",
     "traceback": [
      "\u001b[1;31m---------------------------------------------------------------------------\u001b[0m",
      "\u001b[1;31mIndexError\u001b[0m                                Traceback (most recent call last)",
      "\u001b[1;32m<ipython-input-43-3826c78a4aa2>\u001b[0m in \u001b[0;36m<module>\u001b[1;34m\u001b[0m\n\u001b[1;32m----> 1\u001b[1;33m \u001b[0mcontent\u001b[0m \u001b[1;33m=\u001b[0m \u001b[0mroot\u001b[0m\u001b[1;33m.\u001b[0m\u001b[0mcssselect\u001b[0m\u001b[1;33m(\u001b[0m\u001b[1;34m'div#postContent'\u001b[0m\u001b[1;33m)\u001b[0m\u001b[1;33m[\u001b[0m\u001b[1;36m0\u001b[0m\u001b[1;33m]\u001b[0m\u001b[1;33m\u001b[0m\u001b[1;33m\u001b[0m\u001b[0m\n\u001b[0m",
      "\u001b[1;31mIndexError\u001b[0m: list index out of range"
     ]
    }
   ],
   "source": [
    "content = root.cssselect('div#postContent')[0]"
   ]
  },
  {
   "cell_type": "code",
   "execution_count": 44,
   "metadata": {},
   "outputs": [
    {
     "ename": "NameError",
     "evalue": "name 'content' is not defined",
     "output_type": "error",
     "traceback": [
      "\u001b[1;31m---------------------------------------------------------------------------\u001b[0m",
      "\u001b[1;31mNameError\u001b[0m                                 Traceback (most recent call last)",
      "\u001b[1;32m<ipython-input-44-bb9e936e5fec>\u001b[0m in \u001b[0;36m<module>\u001b[1;34m\u001b[0m\n\u001b[1;32m----> 1\u001b[1;33m \u001b[0mcontent\u001b[0m\u001b[1;33m.\u001b[0m\u001b[0mtext_content\u001b[0m\u001b[1;33m(\u001b[0m\u001b[1;33m)\u001b[0m\u001b[1;33m\u001b[0m\u001b[1;33m\u001b[0m\u001b[0m\n\u001b[0m",
      "\u001b[1;31mNameError\u001b[0m: name 'content' is not defined"
     ]
    }
   ],
   "source": [
    "content.text_content()"
   ]
  },
  {
   "cell_type": "markdown",
   "metadata": {},
   "source": [
    "## 정규표현식으로 공백지우기\n",
    "\n",
    "- `\\n`, `\\t`는 엔터와 탭을 나타냄. \n",
    "- 공백문자는 택스트 분석에서 무시되므로 굳이 지울 필요는 없음\n",
    "- 깔끔하게 처리하고 싶으면\n",
    "- 불필요한 공백을 지우려면 다음과 같이 정규표현식 사용"
   ]
  },
  {
   "cell_type": "code",
   "execution_count": 45,
   "metadata": {},
   "outputs": [],
   "source": [
    "import re"
   ]
  },
  {
   "cell_type": "code",
   "execution_count": 46,
   "metadata": {},
   "outputs": [
    {
     "ename": "NameError",
     "evalue": "name 'content' is not defined",
     "output_type": "error",
     "traceback": [
      "\u001b[1;31m---------------------------------------------------------------------------\u001b[0m",
      "\u001b[1;31mNameError\u001b[0m                                 Traceback (most recent call last)",
      "\u001b[1;32m<ipython-input-46-6804895b45df>\u001b[0m in \u001b[0;36m<module>\u001b[1;34m\u001b[0m\n\u001b[1;32m----> 1\u001b[1;33m \u001b[0mre\u001b[0m\u001b[1;33m.\u001b[0m\u001b[0msub\u001b[0m\u001b[1;33m(\u001b[0m\u001b[1;34m'[\\s\\u200b]+'\u001b[0m\u001b[1;33m,\u001b[0m \u001b[1;34m' '\u001b[0m\u001b[1;33m,\u001b[0m \u001b[0mcontent\u001b[0m\u001b[1;33m.\u001b[0m\u001b[0mtext_content\u001b[0m\u001b[1;33m(\u001b[0m\u001b[1;33m)\u001b[0m\u001b[1;33m)\u001b[0m\u001b[1;33m\u001b[0m\u001b[1;33m\u001b[0m\u001b[0m\n\u001b[0m",
      "\u001b[1;31mNameError\u001b[0m: name 'content' is not defined"
     ]
    }
   ],
   "source": [
    "re.sub('[\\s\\u200b]+', ' ', content.text_content())"
   ]
  },
  {
   "cell_type": "markdown",
   "metadata": {},
   "source": [
    "## 정규표현식 설명\n",
    "\n",
    "- 정규표현식에서 `[]`는 교체할 글자 범위\n",
    "- `\\s`는 일반적 공백\n",
    "- `\\u200b는 유니코드의 `200B` 폭없는 공백 문자\n",
    "- 끝의 +는 1개 이상이라는 뜻\n",
    "- `[\\s\\u200b]+` '공백과 폭 없는 공백문자가 1개 이상 반복되는 경우'"
   ]
  },
  {
   "cell_type": "markdown",
   "metadata": {},
   "source": [
    "## 회원 전용 게시판\n",
    "\n",
    "- 모바일 버전으로 접속\n",
    "- 우상단 ☰ 버튼 클릭 후 아래쪽에서 찾음\n",
    "\n",
    "https://m.cafe.naver.com/ArticleList.nhn?search.clubid=19773565&search.menuid=98&search.boardtype=L\n",
    "\n",
    "- 대부분 게시물이 회원만 볼 수 있음\n",
    "\n",
    "https://m.cafe.naver.com/ArticleRead.nhn?clubid=19773565&articleid=82659&page=1&boardtype=L&menuid=98"
   ]
  },
  {
   "cell_type": "markdown",
   "metadata": {},
   "source": [
    "회원 전용 게시판 스크랩"
   ]
  },
  {
   "cell_type": "code",
   "execution_count": 47,
   "metadata": {},
   "outputs": [],
   "source": [
    "article_url = 'https://m.cafe.naver.com/ArticleRead.nhn?clubid=19773565&articleid=82659&page=1&boardtype=L&menuid=98'"
   ]
  },
  {
   "cell_type": "code",
   "execution_count": 48,
   "metadata": {},
   "outputs": [],
   "source": [
    "res = requests.get(article_url)"
   ]
  },
  {
   "cell_type": "code",
   "execution_count": 49,
   "metadata": {},
   "outputs": [],
   "source": [
    "root = lxml.html.fromstring(res.text)"
   ]
  },
  {
   "cell_type": "markdown",
   "metadata": {},
   "source": [
    "본문을 읽을 수 없음"
   ]
  },
  {
   "cell_type": "code",
   "execution_count": 50,
   "metadata": {},
   "outputs": [
    {
     "data": {
      "text/plain": [
       "[]"
      ]
     },
     "execution_count": 50,
     "metadata": {},
     "output_type": "execute_result"
    }
   ],
   "source": [
    "root.cssselect('#postContent')"
   ]
  },
  {
   "cell_type": "markdown",
   "metadata": {},
   "source": [
    "## 리퍼러 바꾸기\n",
    "\n",
    "- 대부분 네이버 카페 게시물은 검색을 통해서 들어가면 게시물을 볼 수 있음\n",
    "- 마치 검색을 거쳐온 것처럼 하면 회원 전용 게시물도 열람 가능\n",
    "- 리퍼러(referer): 거쳐온 주소"
   ]
  },
  {
   "cell_type": "code",
   "execution_count": 51,
   "metadata": {},
   "outputs": [],
   "source": [
    "search_url = 'https://search.naver.com/search.naver?sm=top_hty&fbm=1&ie=utf8&query=1'"
   ]
  },
  {
   "cell_type": "code",
   "execution_count": 52,
   "metadata": {},
   "outputs": [],
   "source": [
    "res = requests.get(article_url, headers={'Referer': search_url})"
   ]
  },
  {
   "cell_type": "code",
   "execution_count": 53,
   "metadata": {},
   "outputs": [],
   "source": [
    "root = lxml.html.fromstring(res.text)"
   ]
  },
  {
   "cell_type": "markdown",
   "metadata": {},
   "source": [
    "본문 영역이 선택됨"
   ]
  },
  {
   "cell_type": "code",
   "execution_count": 54,
   "metadata": {},
   "outputs": [
    {
     "data": {
      "text/plain": [
       "[]"
      ]
     },
     "execution_count": 54,
     "metadata": {},
     "output_type": "execute_result"
    }
   ],
   "source": [
    "root.cssselect('#postContent')"
   ]
  },
  {
   "cell_type": "markdown",
   "metadata": {},
   "source": [
    "## 한글이 깨지는 경우\n",
    "\n",
    "대법원 홈페이지에 접속하면 한글이 깨져보인다"
   ]
  },
  {
   "cell_type": "code",
   "execution_count": 55,
   "metadata": {},
   "outputs": [],
   "source": [
    "res = requests.get('http://scourt.go.kr/scourt/index.html')"
   ]
  },
  {
   "cell_type": "code",
   "execution_count": 56,
   "metadata": {},
   "outputs": [],
   "source": [
    "root = lxml.html.fromstring(res.text)"
   ]
  },
  {
   "cell_type": "code",
   "execution_count": 57,
   "metadata": {},
   "outputs": [
    {
     "data": {
      "text/plain": [
       "'´ëÇÑ¹Î±¹ ¹ý¿ø'"
      ]
     },
     "execution_count": 57,
     "metadata": {},
     "output_type": "execute_result"
    }
   ],
   "source": [
    "root.cssselect('title')[0].text_content()"
   ]
  },
  {
   "cell_type": "markdown",
   "metadata": {},
   "source": [
    "## 한글 인코딩\n",
    "- 컴퓨터는 모든 것을 수(number)로 다룸\n",
    "- 한글 인코딩: 한글을 수로 나타내는 방법\n",
    "- 현재 국내에서 흔히 사용되는 인코딩은 2가지\n",
    "  - UTF-8: 유니코드라는 국제 표준의 한 형식\n",
    "  - EUC-KR: 완성형 국내 표준\n",
    "\n",
    "## requests의 인코딩 처리\n",
    "- 인코딩을 자동 인식하나 가끔 부정확\n",
    "- 대법원 사이트의 경우 EUC-KR을 ISO-8859-1로 오인식\n",
    "- ISO-8859-1은 서유럽 언어를 위한 유니코드 이전 국제표준(Latin-1)\n",
    "\n",
    "## 인코딩 바꾸기\n",
    "- 인코딩 값을 바꿔주면 됨\n",
    "- 국내 사이트의 경우 `euc-kr`과 `utf8` 둘 중에 하나이므로 하나씩 시도"
   ]
  },
  {
   "cell_type": "code",
   "execution_count": 58,
   "metadata": {},
   "outputs": [
    {
     "data": {
      "text/plain": [
       "'ISO-8859-1'"
      ]
     },
     "execution_count": 58,
     "metadata": {},
     "output_type": "execute_result"
    }
   ],
   "source": [
    "res.encoding"
   ]
  },
  {
   "cell_type": "code",
   "execution_count": 59,
   "metadata": {},
   "outputs": [],
   "source": [
    "res.encoding = 'euc-kr'\n",
    "#res.encoding = 'utf-8'"
   ]
  },
  {
   "cell_type": "markdown",
   "metadata": {},
   "source": [
    "다시 처리해보면"
   ]
  },
  {
   "cell_type": "code",
   "execution_count": 60,
   "metadata": {},
   "outputs": [],
   "source": [
    "root = lxml.html.fromstring(res.text)"
   ]
  },
  {
   "cell_type": "code",
   "execution_count": 61,
   "metadata": {},
   "outputs": [
    {
     "data": {
      "text/plain": [
       "'대한민국 법원'"
      ]
     },
     "execution_count": 61,
     "metadata": {},
     "output_type": "execute_result"
    }
   ],
   "source": [
    "root.cssselect('title')[0].text_content()"
   ]
  },
  {
   "cell_type": "markdown",
   "metadata": {},
   "source": [
    "# 셀레늄"
   ]
  },
  {
   "cell_type": "markdown",
   "metadata": {},
   "source": [
    "## 학습목표\n",
    "\n",
    "웹브라우저가 필요한 상황에서 셀레늄을 이용해 스크래핑하는 방법을 알아본다"
   ]
  },
  {
   "cell_type": "markdown",
   "metadata": {},
   "source": [
    "## 최근의 웹 트렌드\n",
    "\n",
    "- HTML + 프로그램(JavaScript)\n",
    "- 웹 페이지의 내용이 동적으로 변화\n",
    "- 단순히 HTML만 긁어서 내용 파악이 불가능"
   ]
  },
  {
   "cell_type": "markdown",
   "metadata": {},
   "source": [
    "## 트립어드바이저\n",
    "\n",
    "https://www.tripadvisor.co.kr/Restaurant_Review-g294197-d1371740-Reviews-Mugyodong_Bugeokukjib-Seoul.html\n",
    "\n",
    "- 리뷰의 모든 내용은 '더보기' 버튼을 클릭해야 볼 수 있음\n",
    "- 개발자 도구에서 Network를 확인해보면 더보기 버튼 클릭시 통신이 이뤄지며 리뷰 내용을 가져오는 것을 확인"
   ]
  },
  {
   "cell_type": "markdown",
   "metadata": {},
   "source": [
    "## 리뷰 수집 방법\n",
    "\n",
    "1. '더보기' 버튼을 클릭했을 때 통신 내역을 requests로 따라한다\n",
    "2. 웹 브라우저를 띄워서 '더보기' 버튼을 클릭한다"
   ]
  },
  {
   "cell_type": "markdown",
   "metadata": {},
   "source": [
    "## 셀레늄\n",
    "\n",
    "- 웹 브라우저 제어 도구\n",
    "- 원래는 웹 사이트 자동 테스트를 위한 목적\n",
    "- 웹 사이트에 requests 등으로 긁기 어려운 부분이 있을 때 활용\n",
    "- 속도는 느림"
   ]
  },
  {
   "cell_type": "markdown",
   "metadata": {},
   "source": [
    "## 셀레늄 설치"
   ]
  },
  {
   "cell_type": "code",
   "execution_count": 68,
   "metadata": {},
   "outputs": [],
   "source": [
    "#!pip install selenium"
   ]
  },
  {
   "cell_type": "markdown",
   "metadata": {},
   "source": [
    "## 드라이버\n",
    "\n",
    "브라우저별로 '드라이버'가 필요\n",
    "\n",
    "  1. 셀레늄 홈페이지 https://www.seleniumhq.org/\n",
    "  2. Download 탭 이동\n",
    "  3. 필요한 드라이버 링크 선택"
   ]
  },
  {
   "cell_type": "markdown",
   "metadata": {},
   "source": [
    "## 크롬 드라이버\n",
    "\n",
    "- 인터넷 익스플로러는 셀레늄과 문제가 있음\n",
    "- 구글 크롬(Chrome) 사용을 추천\n",
    "  1. 셀레늄 홈페이지에서 Google Chrome Driver를 클릭\n",
    "  2. Latest Release 링크를 클릭\n",
    "  3. Chrome Driver X.XX 링크를 클릭\n",
    "  4. 운영체제(win, mac, linux)에 맞는 파일을 다운로드\n",
    "  5. 압축을 해제\n",
    "  6. chromedriver.exe 파일을 현재 작업 폴더로 복사"
   ]
  },
  {
   "cell_type": "markdown",
   "metadata": {},
   "source": [
    "## 크롬 브라우저 띄우기"
   ]
  },
  {
   "cell_type": "code",
   "execution_count": 69,
   "metadata": {},
   "outputs": [],
   "source": [
    "from selenium.webdriver import Chrome"
   ]
  },
  {
   "cell_type": "code",
   "execution_count": 70,
   "metadata": {},
   "outputs": [],
   "source": [
    "browser = Chrome()"
   ]
  },
  {
   "cell_type": "markdown",
   "metadata": {},
   "source": [
    "크롬이 뜨면서 **Chrome이 자동화된 테스트 소프트웨어에 의해 제어되고 있습니다**라고 표시"
   ]
  },
  {
   "cell_type": "code",
   "execution_count": 71,
   "metadata": {},
   "outputs": [],
   "source": [
    "url = 'https://www.tripadvisor.co.kr/Restaurant_Review-g294197-d1371740-Reviews-Mugyodong_Bugeokukjib-Seoul.html'"
   ]
  },
  {
   "cell_type": "code",
   "execution_count": 72,
   "metadata": {},
   "outputs": [],
   "source": [
    "browser.get(url)\n",
    "#browser.get('https://www.naver.com')"
   ]
  },
  {
   "cell_type": "markdown",
   "metadata": {},
   "source": [
    "## 링크 찾기\n",
    "\n",
    "- `find_elements_by_css_selector`로 '더보기' 링크를 찾는다. \n",
    "  - 단수형 `find_element_~`: 첫번째를 찾음\n",
    "  - 복수형 `find_elements_~`: 모두 찾음(`lxml.html`의 `cssselect`와 동일)"
   ]
  },
  {
   "cell_type": "code",
   "execution_count": 73,
   "metadata": {},
   "outputs": [],
   "source": [
    "more_links = browser.find_elements_by_css_selector('.ulBlueLinks')"
   ]
  },
  {
   "cell_type": "code",
   "execution_count": 74,
   "metadata": {},
   "outputs": [
    {
     "data": {
      "text/plain": [
       "[<selenium.webdriver.remote.webelement.WebElement (session=\"f367acba23d848114f49812d199a3ee6\", element=\"fcd7ee96-aa98-497d-a84e-0f2e5a331eb9\")>,\n",
       " <selenium.webdriver.remote.webelement.WebElement (session=\"f367acba23d848114f49812d199a3ee6\", element=\"4d7a5f87-23b9-4157-a2a7-8df6cbae8fdb\")>,\n",
       " <selenium.webdriver.remote.webelement.WebElement (session=\"f367acba23d848114f49812d199a3ee6\", element=\"03681e33-779b-49a3-a095-78883cf8ecbf\")>,\n",
       " <selenium.webdriver.remote.webelement.WebElement (session=\"f367acba23d848114f49812d199a3ee6\", element=\"1b91e4e1-d0d5-4aeb-84ea-751cfb5552ac\")>,\n",
       " <selenium.webdriver.remote.webelement.WebElement (session=\"f367acba23d848114f49812d199a3ee6\", element=\"84d7e8a8-69bf-49c6-b0cf-739991c2e175\")>,\n",
       " <selenium.webdriver.remote.webelement.WebElement (session=\"f367acba23d848114f49812d199a3ee6\", element=\"1df000dd-c84e-4a67-ba58-cf139f33fae7\")>,\n",
       " <selenium.webdriver.remote.webelement.WebElement (session=\"f367acba23d848114f49812d199a3ee6\", element=\"2445af66-d044-4b4c-92db-59a89a9e167f\")>,\n",
       " <selenium.webdriver.remote.webelement.WebElement (session=\"f367acba23d848114f49812d199a3ee6\", element=\"deac1771-1e23-456f-9431-b91499e75c98\")>,\n",
       " <selenium.webdriver.remote.webelement.WebElement (session=\"f367acba23d848114f49812d199a3ee6\", element=\"7421fffc-6a5d-40fd-be7b-e47e0833bfef\")>,\n",
       " <selenium.webdriver.remote.webelement.WebElement (session=\"f367acba23d848114f49812d199a3ee6\", element=\"c35907e9-8ae1-49a2-8ffb-bf489f16df50\")>]"
      ]
     },
     "execution_count": 74,
     "metadata": {},
     "output_type": "execute_result"
    }
   ],
   "source": [
    "more_links"
   ]
  },
  {
   "cell_type": "markdown",
   "metadata": {},
   "source": [
    "## 클릭\n",
    "\n",
    "`.click` 메소드로 클릭"
   ]
  },
  {
   "cell_type": "code",
   "execution_count": 76,
   "metadata": {},
   "outputs": [],
   "source": [
    "for link in more_links:  # 모든 링크를\n",
    "    try:\n",
    "        link.click()     # 하나씩 클릭한다\n",
    "    except:              # 예외가 발생하면\n",
    "        pass             # 넘어간다"
   ]
  },
  {
   "cell_type": "markdown",
   "metadata": {},
   "source": [
    "## 리뷰\n",
    "\n",
    "- `.text`로 텍스트 확인\n",
    "- `lxml.html`의 `.text_content()`와 동일"
   ]
  },
  {
   "cell_type": "code",
   "execution_count": 78,
   "metadata": {},
   "outputs": [
    {
     "ename": "WebDriverException",
     "evalue": "Message: chrome not reachable\n  (Session info: chrome=81.0.4044.122)\n",
     "output_type": "error",
     "traceback": [
      "\u001b[1;31m---------------------------------------------------------------------------\u001b[0m",
      "\u001b[1;31mWebDriverException\u001b[0m                        Traceback (most recent call last)",
      "\u001b[1;32m<ipython-input-78-084af823dd61>\u001b[0m in \u001b[0;36m<module>\u001b[1;34m\u001b[0m\n\u001b[1;32m----> 1\u001b[1;33m \u001b[0mreviews\u001b[0m \u001b[1;33m=\u001b[0m \u001b[0mbrowser\u001b[0m\u001b[1;33m.\u001b[0m\u001b[0mfind_elements_by_css_selector\u001b[0m\u001b[1;33m(\u001b[0m\u001b[1;34m'.partial_entry'\u001b[0m\u001b[1;33m)\u001b[0m\u001b[1;33m\u001b[0m\u001b[1;33m\u001b[0m\u001b[0m\n\u001b[0m",
      "\u001b[1;32m~\\anaconda3\\lib\\site-packages\\selenium\\webdriver\\remote\\webdriver.py\u001b[0m in \u001b[0;36mfind_elements_by_css_selector\u001b[1;34m(self, css_selector)\u001b[0m\n\u001b[0;32m    612\u001b[0m             \u001b[0melements\u001b[0m \u001b[1;33m=\u001b[0m \u001b[0mdriver\u001b[0m\u001b[1;33m.\u001b[0m\u001b[0mfind_elements_by_css_selector\u001b[0m\u001b[1;33m(\u001b[0m\u001b[1;34m'.foo'\u001b[0m\u001b[1;33m)\u001b[0m\u001b[1;33m\u001b[0m\u001b[1;33m\u001b[0m\u001b[0m\n\u001b[0;32m    613\u001b[0m         \"\"\"\n\u001b[1;32m--> 614\u001b[1;33m         \u001b[1;32mreturn\u001b[0m \u001b[0mself\u001b[0m\u001b[1;33m.\u001b[0m\u001b[0mfind_elements\u001b[0m\u001b[1;33m(\u001b[0m\u001b[0mby\u001b[0m\u001b[1;33m=\u001b[0m\u001b[0mBy\u001b[0m\u001b[1;33m.\u001b[0m\u001b[0mCSS_SELECTOR\u001b[0m\u001b[1;33m,\u001b[0m \u001b[0mvalue\u001b[0m\u001b[1;33m=\u001b[0m\u001b[0mcss_selector\u001b[0m\u001b[1;33m)\u001b[0m\u001b[1;33m\u001b[0m\u001b[1;33m\u001b[0m\u001b[0m\n\u001b[0m\u001b[0;32m    615\u001b[0m \u001b[1;33m\u001b[0m\u001b[0m\n\u001b[0;32m    616\u001b[0m     \u001b[1;32mdef\u001b[0m \u001b[0mexecute_script\u001b[0m\u001b[1;33m(\u001b[0m\u001b[0mself\u001b[0m\u001b[1;33m,\u001b[0m \u001b[0mscript\u001b[0m\u001b[1;33m,\u001b[0m \u001b[1;33m*\u001b[0m\u001b[0margs\u001b[0m\u001b[1;33m)\u001b[0m\u001b[1;33m:\u001b[0m\u001b[1;33m\u001b[0m\u001b[1;33m\u001b[0m\u001b[0m\n",
      "\u001b[1;32m~\\anaconda3\\lib\\site-packages\\selenium\\webdriver\\remote\\webdriver.py\u001b[0m in \u001b[0;36mfind_elements\u001b[1;34m(self, by, value)\u001b[0m\n\u001b[0;32m   1005\u001b[0m         return self.execute(Command.FIND_ELEMENTS, {\n\u001b[0;32m   1006\u001b[0m             \u001b[1;34m'using'\u001b[0m\u001b[1;33m:\u001b[0m \u001b[0mby\u001b[0m\u001b[1;33m,\u001b[0m\u001b[1;33m\u001b[0m\u001b[1;33m\u001b[0m\u001b[0m\n\u001b[1;32m-> 1007\u001b[1;33m             'value': value})['value'] or []\n\u001b[0m\u001b[0;32m   1008\u001b[0m \u001b[1;33m\u001b[0m\u001b[0m\n\u001b[0;32m   1009\u001b[0m     \u001b[1;33m@\u001b[0m\u001b[0mproperty\u001b[0m\u001b[1;33m\u001b[0m\u001b[1;33m\u001b[0m\u001b[0m\n",
      "\u001b[1;32m~\\anaconda3\\lib\\site-packages\\selenium\\webdriver\\remote\\webdriver.py\u001b[0m in \u001b[0;36mexecute\u001b[1;34m(self, driver_command, params)\u001b[0m\n\u001b[0;32m    319\u001b[0m         \u001b[0mresponse\u001b[0m \u001b[1;33m=\u001b[0m \u001b[0mself\u001b[0m\u001b[1;33m.\u001b[0m\u001b[0mcommand_executor\u001b[0m\u001b[1;33m.\u001b[0m\u001b[0mexecute\u001b[0m\u001b[1;33m(\u001b[0m\u001b[0mdriver_command\u001b[0m\u001b[1;33m,\u001b[0m \u001b[0mparams\u001b[0m\u001b[1;33m)\u001b[0m\u001b[1;33m\u001b[0m\u001b[1;33m\u001b[0m\u001b[0m\n\u001b[0;32m    320\u001b[0m         \u001b[1;32mif\u001b[0m \u001b[0mresponse\u001b[0m\u001b[1;33m:\u001b[0m\u001b[1;33m\u001b[0m\u001b[1;33m\u001b[0m\u001b[0m\n\u001b[1;32m--> 321\u001b[1;33m             \u001b[0mself\u001b[0m\u001b[1;33m.\u001b[0m\u001b[0merror_handler\u001b[0m\u001b[1;33m.\u001b[0m\u001b[0mcheck_response\u001b[0m\u001b[1;33m(\u001b[0m\u001b[0mresponse\u001b[0m\u001b[1;33m)\u001b[0m\u001b[1;33m\u001b[0m\u001b[1;33m\u001b[0m\u001b[0m\n\u001b[0m\u001b[0;32m    322\u001b[0m             response['value'] = self._unwrap_value(\n\u001b[0;32m    323\u001b[0m                 response.get('value', None))\n",
      "\u001b[1;32m~\\anaconda3\\lib\\site-packages\\selenium\\webdriver\\remote\\errorhandler.py\u001b[0m in \u001b[0;36mcheck_response\u001b[1;34m(self, response)\u001b[0m\n\u001b[0;32m    240\u001b[0m                 \u001b[0malert_text\u001b[0m \u001b[1;33m=\u001b[0m \u001b[0mvalue\u001b[0m\u001b[1;33m[\u001b[0m\u001b[1;34m'alert'\u001b[0m\u001b[1;33m]\u001b[0m\u001b[1;33m.\u001b[0m\u001b[0mget\u001b[0m\u001b[1;33m(\u001b[0m\u001b[1;34m'text'\u001b[0m\u001b[1;33m)\u001b[0m\u001b[1;33m\u001b[0m\u001b[1;33m\u001b[0m\u001b[0m\n\u001b[0;32m    241\u001b[0m             \u001b[1;32mraise\u001b[0m \u001b[0mexception_class\u001b[0m\u001b[1;33m(\u001b[0m\u001b[0mmessage\u001b[0m\u001b[1;33m,\u001b[0m \u001b[0mscreen\u001b[0m\u001b[1;33m,\u001b[0m \u001b[0mstacktrace\u001b[0m\u001b[1;33m,\u001b[0m \u001b[0malert_text\u001b[0m\u001b[1;33m)\u001b[0m\u001b[1;33m\u001b[0m\u001b[1;33m\u001b[0m\u001b[0m\n\u001b[1;32m--> 242\u001b[1;33m         \u001b[1;32mraise\u001b[0m \u001b[0mexception_class\u001b[0m\u001b[1;33m(\u001b[0m\u001b[0mmessage\u001b[0m\u001b[1;33m,\u001b[0m \u001b[0mscreen\u001b[0m\u001b[1;33m,\u001b[0m \u001b[0mstacktrace\u001b[0m\u001b[1;33m)\u001b[0m\u001b[1;33m\u001b[0m\u001b[1;33m\u001b[0m\u001b[0m\n\u001b[0m\u001b[0;32m    243\u001b[0m \u001b[1;33m\u001b[0m\u001b[0m\n\u001b[0;32m    244\u001b[0m     \u001b[1;32mdef\u001b[0m \u001b[0m_value_or_default\u001b[0m\u001b[1;33m(\u001b[0m\u001b[0mself\u001b[0m\u001b[1;33m,\u001b[0m \u001b[0mobj\u001b[0m\u001b[1;33m,\u001b[0m \u001b[0mkey\u001b[0m\u001b[1;33m,\u001b[0m \u001b[0mdefault\u001b[0m\u001b[1;33m)\u001b[0m\u001b[1;33m:\u001b[0m\u001b[1;33m\u001b[0m\u001b[1;33m\u001b[0m\u001b[0m\n",
      "\u001b[1;31mWebDriverException\u001b[0m: Message: chrome not reachable\n  (Session info: chrome=81.0.4044.122)\n"
     ]
    }
   ],
   "source": [
    "reviews = browser.find_elements_by_css_selector('.partial_entry')"
   ]
  },
  {
   "cell_type": "code",
   "execution_count": 79,
   "metadata": {},
   "outputs": [
    {
     "ename": "NameError",
     "evalue": "name 'reviews' is not defined",
     "output_type": "error",
     "traceback": [
      "\u001b[1;31m---------------------------------------------------------------------------\u001b[0m",
      "\u001b[1;31mNameError\u001b[0m                                 Traceback (most recent call last)",
      "\u001b[1;32m<ipython-input-79-31a5de8d5408>\u001b[0m in \u001b[0;36m<module>\u001b[1;34m\u001b[0m\n\u001b[1;32m----> 1\u001b[1;33m \u001b[1;32mfor\u001b[0m \u001b[0mreview\u001b[0m \u001b[1;32min\u001b[0m \u001b[0mreviews\u001b[0m\u001b[1;33m:\u001b[0m\u001b[1;33m\u001b[0m\u001b[1;33m\u001b[0m\u001b[0m\n\u001b[0m\u001b[0;32m      2\u001b[0m     \u001b[0mprint\u001b[0m\u001b[1;33m(\u001b[0m\u001b[0mreview\u001b[0m\u001b[1;33m.\u001b[0m\u001b[0mtext\u001b[0m\u001b[1;33m)\u001b[0m\u001b[1;33m\u001b[0m\u001b[1;33m\u001b[0m\u001b[0m\n",
      "\u001b[1;31mNameError\u001b[0m: name 'reviews' is not defined"
     ]
    }
   ],
   "source": [
    "for review in reviews:\n",
    "    print(review.text)"
   ]
  },
  {
   "cell_type": "code",
   "execution_count": 80,
   "metadata": {},
   "outputs": [
    {
     "ename": "NameError",
     "evalue": "name 'reviews' is not defined",
     "output_type": "error",
     "traceback": [
      "\u001b[1;31m---------------------------------------------------------------------------\u001b[0m",
      "\u001b[1;31mNameError\u001b[0m                                 Traceback (most recent call last)",
      "\u001b[1;32m<ipython-input-80-28c917940b66>\u001b[0m in \u001b[0;36m<module>\u001b[1;34m\u001b[0m\n\u001b[0;32m      1\u001b[0m \u001b[0mdata\u001b[0m \u001b[1;33m=\u001b[0m \u001b[1;33m[\u001b[0m\u001b[1;33m]\u001b[0m\u001b[1;33m\u001b[0m\u001b[1;33m\u001b[0m\u001b[0m\n\u001b[1;32m----> 2\u001b[1;33m \u001b[1;32mfor\u001b[0m \u001b[0mreview\u001b[0m \u001b[1;32min\u001b[0m \u001b[0mreviews\u001b[0m\u001b[1;33m:\u001b[0m\u001b[1;33m\u001b[0m\u001b[1;33m\u001b[0m\u001b[0m\n\u001b[0m\u001b[0;32m      3\u001b[0m     \u001b[0mdata\u001b[0m\u001b[1;33m.\u001b[0m\u001b[0mappend\u001b[0m\u001b[1;33m(\u001b[0m\u001b[0mreview\u001b[0m\u001b[1;33m.\u001b[0m\u001b[0mtext\u001b[0m\u001b[1;33m)\u001b[0m\u001b[1;33m\u001b[0m\u001b[1;33m\u001b[0m\u001b[0m\n",
      "\u001b[1;31mNameError\u001b[0m: name 'reviews' is not defined"
     ]
    }
   ],
   "source": [
    "data = []\n",
    "for review in reviews:\n",
    "    data.append(review.text)"
   ]
  },
  {
   "cell_type": "code",
   "execution_count": 81,
   "metadata": {},
   "outputs": [],
   "source": [
    "import pandas as pd"
   ]
  },
  {
   "cell_type": "code",
   "execution_count": 82,
   "metadata": {},
   "outputs": [],
   "source": [
    "#pd.DataFrame({'text':data}).to_excel('북어국.xlsx')\n",
    "df = pd.DataFrame({'text':data})\n",
    "df.to_excel('북어국.xlsx')"
   ]
  },
  {
   "cell_type": "markdown",
   "metadata": {},
   "source": [
    "## 셀레늄 문서\n",
    "\n",
    "https://selenium-python.readthedocs.io"
   ]
  },
  {
   "cell_type": "code",
   "execution_count": 83,
   "metadata": {},
   "outputs": [
    {
     "data": {
      "text/html": [
       "<div>\n",
       "<style scoped>\n",
       "    .dataframe tbody tr th:only-of-type {\n",
       "        vertical-align: middle;\n",
       "    }\n",
       "\n",
       "    .dataframe tbody tr th {\n",
       "        vertical-align: top;\n",
       "    }\n",
       "\n",
       "    .dataframe thead th {\n",
       "        text-align: right;\n",
       "    }\n",
       "</style>\n",
       "<table border=\"1\" class=\"dataframe\">\n",
       "  <thead>\n",
       "    <tr style=\"text-align: right;\">\n",
       "      <th></th>\n",
       "      <th>text</th>\n",
       "    </tr>\n",
       "  </thead>\n",
       "  <tbody>\n",
       "  </tbody>\n",
       "</table>\n",
       "</div>"
      ],
      "text/plain": [
       "Empty DataFrame\n",
       "Columns: [text]\n",
       "Index: []"
      ]
     },
     "execution_count": 83,
     "metadata": {},
     "output_type": "execute_result"
    }
   ],
   "source": [
    "df"
   ]
  },
  {
   "cell_type": "code",
   "execution_count": 84,
   "metadata": {},
   "outputs": [],
   "source": [
    "import os"
   ]
  },
  {
   "cell_type": "code",
   "execution_count": 85,
   "metadata": {},
   "outputs": [
    {
     "data": {
      "text/plain": [
       "'C:\\\\Users\\\\TJ\\\\Documents\\\\Bigdata_Python_MachineLearning'"
      ]
     },
     "execution_count": 85,
     "metadata": {},
     "output_type": "execute_result"
    }
   ],
   "source": [
    "os.getcwd()"
   ]
  },
  {
   "cell_type": "code",
   "execution_count": 86,
   "metadata": {},
   "outputs": [],
   "source": [
    "import time"
   ]
  },
  {
   "cell_type": "code",
   "execution_count": 87,
   "metadata": {},
   "outputs": [
    {
     "name": "stdout",
     "output_type": "stream",
     "text": [
      "hell\n",
      "o\n"
     ]
    }
   ],
   "source": [
    "print('hell')\n",
    "time.sleep(3)\n",
    "print('o')"
   ]
  },
  {
   "cell_type": "markdown",
   "metadata": {},
   "source": [
    "# 워드 클라우드"
   ]
  },
  {
   "cell_type": "markdown",
   "metadata": {},
   "source": [
    "설치"
   ]
  },
  {
   "cell_type": "code",
   "execution_count": 88,
   "metadata": {},
   "outputs": [],
   "source": [
    "#!conda install -c conda-forge wordcloud"
   ]
  },
  {
   "cell_type": "markdown",
   "metadata": {},
   "source": [
    "데이터 가져오기"
   ]
  },
  {
   "cell_type": "code",
   "execution_count": null,
   "metadata": {},
   "outputs": [],
   "source": [
    "import pandas as pd\n",
    "import lxml.html\n",
    "import requests"
   ]
  },
  {
   "cell_type": "code",
   "execution_count": null,
   "metadata": {},
   "outputs": [],
   "source": [
    "res = requests.get('https://www.nytimes.com/2019/06/03/technology/itunes-shutting-down.html')"
   ]
  },
  {
   "cell_type": "code",
   "execution_count": null,
   "metadata": {},
   "outputs": [],
   "source": [
    "root = lxml.html.fromstring(res.text)"
   ]
  },
  {
   "cell_type": "code",
   "execution_count": null,
   "metadata": {},
   "outputs": [],
   "source": [
    "content = root.cssselect('[itemProp=\"articleBody\"]')[0].text_content()"
   ]
  },
  {
   "cell_type": "markdown",
   "metadata": {},
   "source": [
    "TDM"
   ]
  },
  {
   "cell_type": "code",
   "execution_count": null,
   "metadata": {},
   "outputs": [],
   "source": [
    "from sklearn.feature_extraction.text import CountVectorizer\n",
    "cv = CountVectorizer(stop_words='english')"
   ]
  },
  {
   "cell_type": "code",
   "execution_count": null,
   "metadata": {},
   "outputs": [],
   "source": [
    "tdm = cv.fit_transform([content]).toarray()"
   ]
  },
  {
   "cell_type": "code",
   "execution_count": null,
   "metadata": {},
   "outputs": [],
   "source": [
    "df = pd.DataFrame({\n",
    "    'word': cv.get_feature_names(),\n",
    "    'freq': tdm.flat\n",
    "})"
   ]
  },
  {
   "cell_type": "code",
   "execution_count": null,
   "metadata": {},
   "outputs": [],
   "source": [
    "df.sort_values('freq', ascending=False).head(20)"
   ]
  },
  {
   "cell_type": "markdown",
   "metadata": {},
   "source": [
    "단어 구름 그리기"
   ]
  },
  {
   "cell_type": "code",
   "execution_count": null,
   "metadata": {},
   "outputs": [],
   "source": [
    "from wordcloud import WordCloud"
   ]
  },
  {
   "cell_type": "code",
   "execution_count": null,
   "metadata": {},
   "outputs": [],
   "source": [
    "wc = WordCloud(width=400, height=400, background_color='white')\n",
    "#wc = WordCloud(font_path='C:\\Windows\\Fonts\\malgun.ttf', width=400, height=400, background_color='white')\n",
    "# 한글 파일일 경우 폰트 지정할 것."
   ]
  },
  {
   "cell_type": "code",
   "execution_count": null,
   "metadata": {},
   "outputs": [],
   "source": [
    "frequencies = {word: freq for word, freq in zip(cv.get_feature_names(), tdm.flat)}\n",
    "# dictionery 형태로 변경"
   ]
  },
  {
   "cell_type": "code",
   "execution_count": null,
   "metadata": {},
   "outputs": [],
   "source": [
    "wc.fit_words(frequencies)"
   ]
  },
  {
   "cell_type": "code",
   "execution_count": null,
   "metadata": {},
   "outputs": [],
   "source": [
    "wc.to_image()"
   ]
  },
  {
   "cell_type": "markdown",
   "metadata": {},
   "source": [
    "## Covid-19 워드 클라우드 만들기"
   ]
  },
  {
   "cell_type": "code",
   "execution_count": 89,
   "metadata": {},
   "outputs": [],
   "source": [
    "import pandas as pd\n",
    "import lxml.html\n",
    "import requests"
   ]
  },
  {
   "cell_type": "code",
   "execution_count": 90,
   "metadata": {},
   "outputs": [],
   "source": [
    "res = requests.get('https://www.bbc.com/korean/international-52429482')"
   ]
  },
  {
   "cell_type": "code",
   "execution_count": 91,
   "metadata": {},
   "outputs": [],
   "source": [
    "root = lxml.html.fromstring(res.text)"
   ]
  },
  {
   "cell_type": "code",
   "execution_count": 92,
   "metadata": {},
   "outputs": [],
   "source": [
    "content = root.cssselect('[property=\"articleBody\"]')[0].text_content()"
   ]
  },
  {
   "cell_type": "code",
   "execution_count": 93,
   "metadata": {},
   "outputs": [],
   "source": [
    "from sklearn.feature_extraction.text import CountVectorizer\n",
    "cv = CountVectorizer()"
   ]
  },
  {
   "cell_type": "code",
   "execution_count": 94,
   "metadata": {},
   "outputs": [],
   "source": [
    "tdm = cv.fit_transform([content]).toarray()"
   ]
  },
  {
   "cell_type": "code",
   "execution_count": 95,
   "metadata": {},
   "outputs": [],
   "source": [
    "df = pd.DataFrame({\n",
    "    'word': cv.get_feature_names(),\n",
    "    'freq': tdm.flat\n",
    "})"
   ]
  },
  {
   "cell_type": "code",
   "execution_count": 96,
   "metadata": {},
   "outputs": [
    {
     "data": {
      "text/html": [
       "<div>\n",
       "<style scoped>\n",
       "    .dataframe tbody tr th:only-of-type {\n",
       "        vertical-align: middle;\n",
       "    }\n",
       "\n",
       "    .dataframe tbody tr th {\n",
       "        vertical-align: top;\n",
       "    }\n",
       "\n",
       "    .dataframe thead th {\n",
       "        text-align: right;\n",
       "    }\n",
       "</style>\n",
       "<table border=\"1\" class=\"dataframe\">\n",
       "  <thead>\n",
       "    <tr style=\"text-align: right;\">\n",
       "      <th></th>\n",
       "      <th>word</th>\n",
       "      <th>freq</th>\n",
       "    </tr>\n",
       "  </thead>\n",
       "  <tbody>\n",
       "    <tr>\n",
       "      <th>145</th>\n",
       "      <td>사망자</td>\n",
       "      <td>8</td>\n",
       "    </tr>\n",
       "    <tr>\n",
       "      <th>274</th>\n",
       "      <td>코로나19</td>\n",
       "      <td>8</td>\n",
       "    </tr>\n",
       "    <tr>\n",
       "      <th>96</th>\n",
       "      <td>말했다</td>\n",
       "      <td>6</td>\n",
       "    </tr>\n",
       "    <tr>\n",
       "      <th>168</th>\n",
       "      <td>수는</td>\n",
       "      <td>5</td>\n",
       "    </tr>\n",
       "    <tr>\n",
       "      <th>47</th>\n",
       "      <td>국가에서는</td>\n",
       "      <td>4</td>\n",
       "    </tr>\n",
       "    <tr>\n",
       "      <th>148</th>\n",
       "      <td>사망자를</td>\n",
       "      <td>4</td>\n",
       "    </tr>\n",
       "    <tr>\n",
       "      <th>167</th>\n",
       "      <td>수가</td>\n",
       "      <td>4</td>\n",
       "    </tr>\n",
       "    <tr>\n",
       "      <th>75</th>\n",
       "      <td>다른</td>\n",
       "      <td>4</td>\n",
       "    </tr>\n",
       "    <tr>\n",
       "      <th>146</th>\n",
       "      <td>사망자가</td>\n",
       "      <td>4</td>\n",
       "    </tr>\n",
       "    <tr>\n",
       "      <th>210</th>\n",
       "      <td>유럽</td>\n",
       "      <td>4</td>\n",
       "    </tr>\n",
       "    <tr>\n",
       "      <th>232</th>\n",
       "      <td>일부</td>\n",
       "      <td>4</td>\n",
       "    </tr>\n",
       "    <tr>\n",
       "      <th>151</th>\n",
       "      <td>사망한</td>\n",
       "      <td>4</td>\n",
       "    </tr>\n",
       "    <tr>\n",
       "      <th>91</th>\n",
       "      <td>많다</td>\n",
       "      <td>3</td>\n",
       "    </tr>\n",
       "    <tr>\n",
       "      <th>31</th>\n",
       "      <td>것으로</td>\n",
       "      <td>3</td>\n",
       "    </tr>\n",
       "    <tr>\n",
       "      <th>89</th>\n",
       "      <td>또한</td>\n",
       "      <td>3</td>\n",
       "    </tr>\n",
       "    <tr>\n",
       "      <th>52</th>\n",
       "      <td>기록했다</td>\n",
       "      <td>3</td>\n",
       "    </tr>\n",
       "    <tr>\n",
       "      <th>25</th>\n",
       "      <td>가장</td>\n",
       "      <td>3</td>\n",
       "    </tr>\n",
       "    <tr>\n",
       "      <th>237</th>\n",
       "      <td>있다고</td>\n",
       "      <td>3</td>\n",
       "    </tr>\n",
       "    <tr>\n",
       "      <th>9</th>\n",
       "      <td>25일</td>\n",
       "      <td>3</td>\n",
       "    </tr>\n",
       "    <tr>\n",
       "      <th>202</th>\n",
       "      <td>영국</td>\n",
       "      <td>3</td>\n",
       "    </tr>\n",
       "  </tbody>\n",
       "</table>\n",
       "</div>"
      ],
      "text/plain": [
       "      word  freq\n",
       "145    사망자     8\n",
       "274  코로나19     8\n",
       "96     말했다     6\n",
       "168     수는     5\n",
       "47   국가에서는     4\n",
       "148   사망자를     4\n",
       "167     수가     4\n",
       "75      다른     4\n",
       "146   사망자가     4\n",
       "210     유럽     4\n",
       "232     일부     4\n",
       "151    사망한     4\n",
       "91      많다     3\n",
       "31     것으로     3\n",
       "89      또한     3\n",
       "52    기록했다     3\n",
       "25      가장     3\n",
       "237    있다고     3\n",
       "9      25일     3\n",
       "202     영국     3"
      ]
     },
     "execution_count": 96,
     "metadata": {},
     "output_type": "execute_result"
    }
   ],
   "source": [
    "df.sort_values('freq', ascending=False).head(20)"
   ]
  },
  {
   "cell_type": "code",
   "execution_count": 97,
   "metadata": {},
   "outputs": [],
   "source": [
    "from wordcloud import WordCloud"
   ]
  },
  {
   "cell_type": "code",
   "execution_count": 98,
   "metadata": {},
   "outputs": [],
   "source": [
    "#wc = WordCloud(width=400, height=400, background_color='white')\n",
    "wc = WordCloud(font_path='C:\\Windows\\Fonts\\malgun.ttf', width=400, height=400, background_color='white')\n",
    "# 한글 파일일 경우 폰트 지정할 것."
   ]
  },
  {
   "cell_type": "code",
   "execution_count": 99,
   "metadata": {},
   "outputs": [],
   "source": [
    "frequencies = {word: freq for word, freq in zip(cv.get_feature_names(), tdm.flat)}\n",
    "# dictionery 형태로 변경"
   ]
  },
  {
   "cell_type": "code",
   "execution_count": 100,
   "metadata": {},
   "outputs": [
    {
     "data": {
      "text/plain": [
       "<wordcloud.wordcloud.WordCloud at 0x1f2a0475a08>"
      ]
     },
     "execution_count": 100,
     "metadata": {},
     "output_type": "execute_result"
    }
   ],
   "source": [
    "wc.fit_words(frequencies)"
   ]
  },
  {
   "cell_type": "code",
   "execution_count": 101,
   "metadata": {},
   "outputs": [
    {
     "data": {
      "image/png": "[encoded data removed]",
      "text/plain": [
       "<PIL.Image.Image image mode=RGB size=400x400 at 0x1F2A0859508>"
      ]
     },
     "execution_count": 101,
     "metadata": {},
     "output_type": "execute_result"
    }
   ],
   "source": [
    "wc.to_image()"
   ]
  },
  {
   "cell_type": "code",
   "execution_count": null,
   "metadata": {},
   "outputs": [],
   "source": []
  }
 ],
 "metadata": {
  "kernelspec": {
   "display_name": "Python 3",
   "language": "python",
   "name": "python3"
  },
  "language_info": {
   "codemirror_mode": {
    "name": "ipython",
    "version": 3
   },
   "file_extension": ".py",
   "mimetype": "text/x-python",
   "name": "python",
   "nbconvert_exporter": "python",
   "pygments_lexer": "ipython3",
   "version": "3.7.6"
  }
 },
 "nbformat": 4,
 "nbformat_minor": 4
}
